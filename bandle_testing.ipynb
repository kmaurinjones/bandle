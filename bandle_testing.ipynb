{
 "cells": [
  {
   "attachments": {},
   "cell_type": "markdown",
   "metadata": {},
   "source": [
    "## Imports"
   ]
  },
  {
   "cell_type": "code",
   "execution_count": 1,
   "metadata": {},
   "outputs": [],
   "source": [
    "import numpy as np\n",
    "import random\n",
    "import operator\n",
    "import time\n",
    "import pandas as pd\n",
    "from bandle_functions import *"
   ]
  },
  {
   "attachments": {},
   "cell_type": "markdown",
   "metadata": {},
   "source": [
    "## Creating bandle_official_* (word length) lists"
   ]
  },
  {
   "cell_type": "code",
   "execution_count": 2,
   "metadata": {},
   "outputs": [
    {
     "name": "stdout",
     "output_type": "stream",
     "text": [
      "2310\n"
     ]
    },
    {
     "data": {
      "text/plain": [
       "['wince', 'thyme', 'mower', 'horde', 'heard']"
      ]
     },
     "execution_count": 2,
     "metadata": {},
     "output_type": "execute_result"
    }
   ],
   "source": [
    "### Official list as placeholder for now\n",
    "official_words = []\n",
    "\n",
    "with open(\"data/official_words_processed.txt\", \"r\", encoding = \"utf-8\") as f:\n",
    "    for word in f.read().split(\"\\n\"):\n",
    "        official_words.append(word)\n",
    "\n",
    "f.close() # closes connection to file\n",
    "\n",
    "print(len(official_words))\n",
    "official_words[:5]"
   ]
  },
  {
   "cell_type": "code",
   "execution_count": 3,
   "metadata": {},
   "outputs": [],
   "source": [
    "### list creation here"
   ]
  },
  {
   "attachments": {},
   "cell_type": "markdown",
   "metadata": {},
   "source": [
    "## `bandle_user()` function"
   ]
  },
  {
   "cell_type": "code",
   "execution_count": null,
   "metadata": {},
   "outputs": [],
   "source": []
  },
  {
   "cell_type": "code",
   "execution_count": 4,
   "metadata": {},
   "outputs": [
    {
     "name": "stdout",
     "output_type": "stream",
     "text": [
      "-----------------------------\n",
      "\n",
      "Guess 1: 'shirt'\n",
      "Letters in correct positions:\n",
      "\t[]\n",
      "\n",
      "Letters in incorrect positions:\n",
      "\t[('r', 3)]\n",
      "\n",
      "Letters to guess again:\n",
      "\t['r']\n",
      "\n",
      "Letters to not guess again:\n",
      "\t['h', 'i', 's', 't']\n",
      "\n",
      "Next guess:\n",
      "\t'heart'\n",
      "\n",
      "-----------------------------\n",
      "\n",
      "Guess 2: 'heart'\n",
      "Letters in correct positions:\n",
      "\t[]\n",
      "\n",
      "Letters in incorrect positions:\n",
      "\t[('e', 1), ('r', 3)]\n",
      "\n",
      "Letters to guess again:\n",
      "\t['e', 'r']\n",
      "\n",
      "Letters to not guess again:\n",
      "\t['a', 'h', 'i', 's', 't']\n",
      "\n",
      "Next guess:\n",
      "\t'later'\n",
      "\n",
      "-----------------------------\n",
      "\n",
      "Guess 3: 'later'\n",
      "Letters in correct positions:\n",
      "\t[]\n",
      "\n",
      "Letters in incorrect positions:\n",
      "\t[('e', 1), ('r', 3), ('e', 3), ('r', 4)]\n",
      "\n",
      "Letters to guess again:\n",
      "\t['e', 'r']\n",
      "\n",
      "Letters to not guess again:\n",
      "\t['a', 'h', 'i', 'l', 's', 't']\n",
      "\n",
      "Next guess:\n",
      "\t'force'\n",
      "\n",
      "-----------------------------\n",
      "\n",
      "Guess 4: 'force'\n",
      "\n",
      "Congratulations! The Bandle has been solved in 4 guesses!\n",
      "There were still 2 guesses remaining.\n",
      "\n",
      "The target word was 'force'.\n",
      "\n",
      "-----------------------------\n"
     ]
    }
   ],
   "source": [
    "bandle_user(word_list = official_words, max_guesses = 6, \n",
    "                guess = \"paint\", target = \"force\",\n",
    "                random_guess = False, random_target = False, \n",
    "                hints = False, drama = 0, return_stats = False,\n",
    "                record = False, hf_mod = False)"
   ]
  }
 ],
 "metadata": {
  "kernelspec": {
   "display_name": "base",
   "language": "python",
   "name": "python3"
  },
  "language_info": {
   "codemirror_mode": {
    "name": "ipython",
    "version": 3
   },
   "file_extension": ".py",
   "mimetype": "text/x-python",
   "name": "python",
   "nbconvert_exporter": "python",
   "pygments_lexer": "ipython3",
   "version": "3.10.4"
  },
  "orig_nbformat": 4
 },
 "nbformat": 4,
 "nbformat_minor": 2
}
